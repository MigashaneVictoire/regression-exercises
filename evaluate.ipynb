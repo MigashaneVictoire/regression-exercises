{
 "cells": [
  {
   "cell_type": "markdown",
   "id": "e3fd2186",
   "metadata": {},
   "source": [
    "# Evaluate Regression Model\n",
    "\n",
    "[lesson link](https://ds.codeup.com/regression/evaluate/)\n",
    "\n",
    "**import**"
   ]
  },
  {
   "cell_type": "code",
   "execution_count": 1,
   "id": "04cc4b24",
   "metadata": {},
   "outputs": [],
   "source": [
    "from scipy import stats\n",
    "from sklearn.metrics import mean_squared_error, r2_score, explained_variance_score\n",
    "\n",
    "from sklearn.linear_model import LinearRegression\n",
    "from sklearn.feature_selection import f_regression \n",
    "from math import sqrt\n",
    "import matplotlib.pyplot as plt\n",
    "import seaborn as sns\n",
    "import pandas as pd\n",
    "import numpy as np\n",
    "import math\n",
    "import warnings\n",
    "import sys\n",
    "warnings.filterwarnings('ignore')\n",
    "\n",
    "# set a default them for all my visuals\n",
    "sns.set_theme(style=\"whitegrid\")\n",
    "\n",
    "sys.path.append(\"./util_\")\n",
    "# Personal libraries\n",
    "import evaluate_\n"
   ]
  },
  {
   "cell_type": "markdown",
   "id": "ff19924d",
   "metadata": {},
   "source": [
    "**get data**"
   ]
  },
  {
   "cell_type": "code",
   "execution_count": 2,
   "id": "c07ec353",
   "metadata": {},
   "outputs": [
    {
     "data": {
      "text/html": [
       "<div>\n",
       "<style scoped>\n",
       "    .dataframe tbody tr th:only-of-type {\n",
       "        vertical-align: middle;\n",
       "    }\n",
       "\n",
       "    .dataframe tbody tr th {\n",
       "        vertical-align: top;\n",
       "    }\n",
       "\n",
       "    .dataframe thead th {\n",
       "        text-align: right;\n",
       "    }\n",
       "</style>\n",
       "<table border=\"1\" class=\"dataframe\">\n",
       "  <thead>\n",
       "    <tr style=\"text-align: right;\">\n",
       "      <th></th>\n",
       "      <th>bedrooms</th>\n",
       "      <th>bathrooms</th>\n",
       "      <th>sqr_feet</th>\n",
       "      <th>tax_value</th>\n",
       "      <th>year_built</th>\n",
       "      <th>tax_amount</th>\n",
       "      <th>county</th>\n",
       "    </tr>\n",
       "  </thead>\n",
       "  <tbody>\n",
       "    <tr>\n",
       "      <th>312463</th>\n",
       "      <td>4</td>\n",
       "      <td>2.0</td>\n",
       "      <td>1369.0</td>\n",
       "      <td>305725.0</td>\n",
       "      <td>1965</td>\n",
       "      <td>3409.40</td>\n",
       "      <td>Sam Juan</td>\n",
       "    </tr>\n",
       "    <tr>\n",
       "      <th>1269428</th>\n",
       "      <td>4</td>\n",
       "      <td>2.5</td>\n",
       "      <td>2474.0</td>\n",
       "      <td>421958.0</td>\n",
       "      <td>1977</td>\n",
       "      <td>4360.46</td>\n",
       "      <td>Orange</td>\n",
       "    </tr>\n",
       "    <tr>\n",
       "      <th>1875474</th>\n",
       "      <td>3</td>\n",
       "      <td>2.0</td>\n",
       "      <td>1675.0</td>\n",
       "      <td>201859.0</td>\n",
       "      <td>1990</td>\n",
       "      <td>3264.71</td>\n",
       "      <td>Los Angeles</td>\n",
       "    </tr>\n",
       "    <tr>\n",
       "      <th>1053441</th>\n",
       "      <td>3</td>\n",
       "      <td>2.0</td>\n",
       "      <td>2155.0</td>\n",
       "      <td>116034.0</td>\n",
       "      <td>1973</td>\n",
       "      <td>1889.24</td>\n",
       "      <td>Orange</td>\n",
       "    </tr>\n",
       "    <tr>\n",
       "      <th>494523</th>\n",
       "      <td>5</td>\n",
       "      <td>2.5</td>\n",
       "      <td>2224.0</td>\n",
       "      <td>365063.0</td>\n",
       "      <td>1994</td>\n",
       "      <td>3373.06</td>\n",
       "      <td>Orange</td>\n",
       "    </tr>\n",
       "  </tbody>\n",
       "</table>\n",
       "</div>"
      ],
      "text/plain": [
       "         bedrooms  bathrooms  sqr_feet  tax_value  year_built  tax_amount  \\\n",
       "312463          4        2.0    1369.0   305725.0        1965     3409.40   \n",
       "1269428         4        2.5    2474.0   421958.0        1977     4360.46   \n",
       "1875474         3        2.0    1675.0   201859.0        1990     3264.71   \n",
       "1053441         3        2.0    2155.0   116034.0        1973     1889.24   \n",
       "494523          5        2.5    2224.0   365063.0        1994     3373.06   \n",
       "\n",
       "              county  \n",
       "312463      Sam Juan  \n",
       "1269428       Orange  \n",
       "1875474  Los Angeles  \n",
       "1053441       Orange  \n",
       "494523        Orange  "
      ]
     },
     "execution_count": 2,
     "metadata": {},
     "output_type": "execute_result"
    }
   ],
   "source": [
    "# load training data\n",
    "train = pd.read_csv(\"./project_data/training_data.csv\", index_col=0)\n",
    "train.head()"
   ]
  },
  {
   "cell_type": "markdown",
   "id": "1ecb5ef9",
   "metadata": {},
   "source": [
    "**Base line**"
   ]
  },
  {
   "cell_type": "code",
   "execution_count": 3,
   "id": "17969ec1",
   "metadata": {},
   "outputs": [
    {
     "data": {
      "text/plain": [
       "array([319237., 319237., 319237., ..., 319237., 319237., 319237.])"
      ]
     },
     "execution_count": 3,
     "metadata": {},
     "output_type": "execute_result"
    }
   ],
   "source": [
    "# estaplish a baseline prediction\n",
    "baseline = train.tax_value.median()\n",
    "\n",
    "y_hat_baseline = []\n",
    "for i in range(len(train)):\n",
    "    y_hat_baseline.append(baseline)\n",
    "    \n",
    "y_hat_baseline = np.array(y_hat_baseline)\n",
    "y_hat_baseline"
   ]
  },
  {
   "cell_type": "code",
   "execution_count": 4,
   "id": "e9ba4418",
   "metadata": {},
   "outputs": [
    {
     "data": {
      "text/html": [
       "<div>\n",
       "<style scoped>\n",
       "    .dataframe tbody tr th:only-of-type {\n",
       "        vertical-align: middle;\n",
       "    }\n",
       "\n",
       "    .dataframe tbody tr th {\n",
       "        vertical-align: top;\n",
       "    }\n",
       "\n",
       "    .dataframe thead th {\n",
       "        text-align: right;\n",
       "    }\n",
       "</style>\n",
       "<table border=\"1\" class=\"dataframe\">\n",
       "  <thead>\n",
       "    <tr style=\"text-align: right;\">\n",
       "      <th></th>\n",
       "      <th>sqr_feet</th>\n",
       "      <th>tax_value</th>\n",
       "      <th>y_hat_baseline</th>\n",
       "    </tr>\n",
       "  </thead>\n",
       "  <tbody>\n",
       "    <tr>\n",
       "      <th>312463</th>\n",
       "      <td>1369.0</td>\n",
       "      <td>305725.0</td>\n",
       "      <td>319237.0</td>\n",
       "    </tr>\n",
       "    <tr>\n",
       "      <th>1269428</th>\n",
       "      <td>2474.0</td>\n",
       "      <td>421958.0</td>\n",
       "      <td>319237.0</td>\n",
       "    </tr>\n",
       "    <tr>\n",
       "      <th>1875474</th>\n",
       "      <td>1675.0</td>\n",
       "      <td>201859.0</td>\n",
       "      <td>319237.0</td>\n",
       "    </tr>\n",
       "    <tr>\n",
       "      <th>1053441</th>\n",
       "      <td>2155.0</td>\n",
       "      <td>116034.0</td>\n",
       "      <td>319237.0</td>\n",
       "    </tr>\n",
       "    <tr>\n",
       "      <th>494523</th>\n",
       "      <td>2224.0</td>\n",
       "      <td>365063.0</td>\n",
       "      <td>319237.0</td>\n",
       "    </tr>\n",
       "  </tbody>\n",
       "</table>\n",
       "</div>"
      ],
      "text/plain": [
       "         sqr_feet  tax_value  y_hat_baseline\n",
       "312463     1369.0   305725.0        319237.0\n",
       "1269428    2474.0   421958.0        319237.0\n",
       "1875474    1675.0   201859.0        319237.0\n",
       "1053441    2155.0   116034.0        319237.0\n",
       "494523     2224.0   365063.0        319237.0"
      ]
     },
     "execution_count": 4,
     "metadata": {},
     "output_type": "execute_result"
    }
   ],
   "source": [
    "df_eval = train[[\"sqr_feet\", \"tax_value\"]]\n",
    "df_eval[\"y_hat_baseline\"] = y_hat_baseline\n",
    "df_eval.head()"
   ]
  },
  {
   "cell_type": "markdown",
   "id": "10b90324",
   "metadata": {},
   "source": [
    "**Fit a linear regression model (ordinary least squares) and compute yhat, predictions of taxvaluedollarcnt using only calculatedfinishedsqft.**"
   ]
  },
  {
   "cell_type": "code",
   "execution_count": 5,
   "id": "183800db",
   "metadata": {},
   "outputs": [
    {
     "data": {
      "text/plain": [
       "array([ 297986.03133289,  541576.12579463,  365441.74979922, ...,\n",
       "        220169.46721977, 1067333.93148808,  315180.62623607])"
      ]
     },
     "execution_count": 5,
     "metadata": {},
     "output_type": "execute_result"
    }
   ],
   "source": [
    "X = train[[\"sqr_feet\"]]\n",
    "target = train.tax_value\n",
    "\n",
    "# make and fit the linear model object\n",
    "ols_model = LinearRegression().fit(X, target)\n",
    "\n",
    "y_hat = ols_model.predict(X)\n",
    "y_hat"
   ]
  },
  {
   "cell_type": "code",
   "execution_count": 6,
   "id": "ca005db0",
   "metadata": {},
   "outputs": [
    {
     "data": {
      "text/html": [
       "<div>\n",
       "<style scoped>\n",
       "    .dataframe tbody tr th:only-of-type {\n",
       "        vertical-align: middle;\n",
       "    }\n",
       "\n",
       "    .dataframe tbody tr th {\n",
       "        vertical-align: top;\n",
       "    }\n",
       "\n",
       "    .dataframe thead th {\n",
       "        text-align: right;\n",
       "    }\n",
       "</style>\n",
       "<table border=\"1\" class=\"dataframe\">\n",
       "  <thead>\n",
       "    <tr style=\"text-align: right;\">\n",
       "      <th></th>\n",
       "      <th>sqr_feet</th>\n",
       "      <th>tax_value</th>\n",
       "      <th>y_hat_baseline</th>\n",
       "      <th>y_hat</th>\n",
       "    </tr>\n",
       "  </thead>\n",
       "  <tbody>\n",
       "    <tr>\n",
       "      <th>312463</th>\n",
       "      <td>1369.0</td>\n",
       "      <td>305725.0</td>\n",
       "      <td>319237.0</td>\n",
       "      <td>297986.031333</td>\n",
       "    </tr>\n",
       "    <tr>\n",
       "      <th>1269428</th>\n",
       "      <td>2474.0</td>\n",
       "      <td>421958.0</td>\n",
       "      <td>319237.0</td>\n",
       "      <td>541576.125795</td>\n",
       "    </tr>\n",
       "    <tr>\n",
       "      <th>1875474</th>\n",
       "      <td>1675.0</td>\n",
       "      <td>201859.0</td>\n",
       "      <td>319237.0</td>\n",
       "      <td>365441.749799</td>\n",
       "    </tr>\n",
       "    <tr>\n",
       "      <th>1053441</th>\n",
       "      <td>2155.0</td>\n",
       "      <td>116034.0</td>\n",
       "      <td>319237.0</td>\n",
       "      <td>471254.641511</td>\n",
       "    </tr>\n",
       "    <tr>\n",
       "      <th>494523</th>\n",
       "      <td>2224.0</td>\n",
       "      <td>365063.0</td>\n",
       "      <td>319237.0</td>\n",
       "      <td>486465.244695</td>\n",
       "    </tr>\n",
       "  </tbody>\n",
       "</table>\n",
       "</div>"
      ],
      "text/plain": [
       "         sqr_feet  tax_value  y_hat_baseline          y_hat\n",
       "312463     1369.0   305725.0        319237.0  297986.031333\n",
       "1269428    2474.0   421958.0        319237.0  541576.125795\n",
       "1875474    1675.0   201859.0        319237.0  365441.749799\n",
       "1053441    2155.0   116034.0        319237.0  471254.641511\n",
       "494523     2224.0   365063.0        319237.0  486465.244695"
      ]
     },
     "execution_count": 6,
     "metadata": {},
     "output_type": "execute_result"
    }
   ],
   "source": [
    "df_eval[\"y_hat\"] = y_hat\n",
    "df_eval.head()"
   ]
  },
  {
   "cell_type": "markdown",
   "id": "9f18b696",
   "metadata": {},
   "source": [
    "**Plot the residuals for the linear regression model that you made.**"
   ]
  },
  {
   "cell_type": "code",
   "execution_count": 7,
   "id": "ce5441c1",
   "metadata": {},
   "outputs": [
    {
     "data": {
      "text/plain": [
       "<Axes: >"
      ]
     },
     "execution_count": 7,
     "metadata": {},
     "output_type": "execute_result"
    },
    {
     "data": {
      "image/png": "[encoded data removed]",
      "text/plain": [
       "<Figure size 640x480 with 1 Axes>"
      ]
     },
     "metadata": {},
     "output_type": "display_data"
    }
   ],
   "source": [
    "# substract the predicted from the actual to get the residual\n",
    "residual = df_eval.y_hat - df_eval.tax_value\n",
    "\n",
    "# Plot the residual\n",
    "sns.regplot(x=np.arange(len(residual)),y=residual)"
   ]
  },
  {
   "cell_type": "code",
   "execution_count": 8,
   "id": "b68d4ad3",
   "metadata": {},
   "outputs": [
    {
     "data": {
      "text/html": [
       "<div>\n",
       "<style scoped>\n",
       "    .dataframe tbody tr th:only-of-type {\n",
       "        vertical-align: middle;\n",
       "    }\n",
       "\n",
       "    .dataframe tbody tr th {\n",
       "        vertical-align: top;\n",
       "    }\n",
       "\n",
       "    .dataframe thead th {\n",
       "        text-align: right;\n",
       "    }\n",
       "</style>\n",
       "<table border=\"1\" class=\"dataframe\">\n",
       "  <thead>\n",
       "    <tr style=\"text-align: right;\">\n",
       "      <th></th>\n",
       "      <th>sqr_feet</th>\n",
       "      <th>tax_value</th>\n",
       "      <th>y_hat_baseline</th>\n",
       "      <th>y_hat</th>\n",
       "      <th>residual</th>\n",
       "      <th>residual_baseline</th>\n",
       "    </tr>\n",
       "  </thead>\n",
       "  <tbody>\n",
       "    <tr>\n",
       "      <th>312463</th>\n",
       "      <td>1369.0</td>\n",
       "      <td>305725.0</td>\n",
       "      <td>319237.0</td>\n",
       "      <td>297986.031333</td>\n",
       "      <td>-7738.968667</td>\n",
       "      <td>30238.520078</td>\n",
       "    </tr>\n",
       "    <tr>\n",
       "      <th>1269428</th>\n",
       "      <td>2474.0</td>\n",
       "      <td>421958.0</td>\n",
       "      <td>319237.0</td>\n",
       "      <td>541576.125795</td>\n",
       "      <td>119618.125795</td>\n",
       "      <td>30238.520078</td>\n",
       "    </tr>\n",
       "    <tr>\n",
       "      <th>1875474</th>\n",
       "      <td>1675.0</td>\n",
       "      <td>201859.0</td>\n",
       "      <td>319237.0</td>\n",
       "      <td>365441.749799</td>\n",
       "      <td>163582.749799</td>\n",
       "      <td>30238.520078</td>\n",
       "    </tr>\n",
       "    <tr>\n",
       "      <th>1053441</th>\n",
       "      <td>2155.0</td>\n",
       "      <td>116034.0</td>\n",
       "      <td>319237.0</td>\n",
       "      <td>471254.641511</td>\n",
       "      <td>355220.641511</td>\n",
       "      <td>30238.520078</td>\n",
       "    </tr>\n",
       "    <tr>\n",
       "      <th>494523</th>\n",
       "      <td>2224.0</td>\n",
       "      <td>365063.0</td>\n",
       "      <td>319237.0</td>\n",
       "      <td>486465.244695</td>\n",
       "      <td>121402.244695</td>\n",
       "      <td>30238.520078</td>\n",
       "    </tr>\n",
       "  </tbody>\n",
       "</table>\n",
       "</div>"
      ],
      "text/plain": [
       "         sqr_feet  tax_value  y_hat_baseline          y_hat       residual  \\\n",
       "312463     1369.0   305725.0        319237.0  297986.031333   -7738.968667   \n",
       "1269428    2474.0   421958.0        319237.0  541576.125795  119618.125795   \n",
       "1875474    1675.0   201859.0        319237.0  365441.749799  163582.749799   \n",
       "1053441    2155.0   116034.0        319237.0  471254.641511  355220.641511   \n",
       "494523     2224.0   365063.0        319237.0  486465.244695  121402.244695   \n",
       "\n",
       "         residual_baseline  \n",
       "312463        30238.520078  \n",
       "1269428       30238.520078  \n",
       "1875474       30238.520078  \n",
       "1053441       30238.520078  \n",
       "494523        30238.520078  "
      ]
     },
     "execution_count": 8,
     "metadata": {},
     "output_type": "execute_result"
    }
   ],
   "source": [
    "df_eval[\"residual\"] = residual\n",
    "\n",
    "# estaplish a residualbaseline prediction\n",
    "r_baseline = df_eval.residual.median()\n",
    "\n",
    "residual_baseline = []\n",
    "for i in range(len(train)):\n",
    "    residual_baseline.append(r_baseline)\n",
    "    \n",
    "residual = np.array(residual)\n",
    "y_hat_baseline\n",
    "\n",
    "\n",
    "df_eval[\"residual_baseline\"] = residual_baseline\n",
    "df_eval.head()"
   ]
  },
  {
   "cell_type": "markdown",
   "id": "4cd2a877",
   "metadata": {},
   "source": [
    "**Calculate the sum of squared errors, explained sum of squares, total sum of squares, mean squared error, and root mean squared error for your model.**\n",
    "\n",
    "**AND**\n",
    "\n",
    "**Calculate the sum of squared errors, mean squared error, and root mean squared error for the baseline model (i.e. a model that always predicts the average taxvaluedollarcnt amount).**"
   ]
  },
  {
   "cell_type": "markdown",
   "id": "a37292db",
   "metadata": {},
   "source": [
    "**SSE**"
   ]
  },
  {
   "cell_type": "code",
   "execution_count": 9,
   "id": "58731e39",
   "metadata": {},
   "outputs": [
    {
     "data": {
      "text/plain": [
       "(7.092045767416913e+16, 1.0879091773700021e+17)"
      ]
     },
     "execution_count": 9,
     "metadata": {},
     "output_type": "execute_result"
    }
   ],
   "source": [
    "# calculate predicted sum of squared error\n",
    "SSE = mean_squared_error(df_eval.tax_value, df_eval.y_hat) * len(df_eval)\n",
    "\n",
    "# calculate baseline sum of squared error\n",
    "SSE_base = mean_squared_error(df_eval.tax_value, df_eval.y_hat_baseline) * len(df_eval)\n",
    "(SSE, SSE_base)"
   ]
  },
  {
   "cell_type": "markdown",
   "id": "1654c197",
   "metadata": {},
   "source": [
    "**ESS**"
   ]
  },
  {
   "cell_type": "code",
   "execution_count": 10,
   "id": "6cd7b042",
   "metadata": {},
   "outputs": [
    {
     "data": {
      "text/plain": [
       "3.217689382756802e+16"
      ]
     },
     "execution_count": 10,
     "metadata": {},
     "output_type": "execute_result"
    }
   ],
   "source": [
    "# compute explained sum of squares\n",
    "ESS = sum((df_eval.y_hat - df_eval.tax_value.mean())**2)\n",
    "ESS"
   ]
  },
  {
   "cell_type": "markdown",
   "id": "6c5aed14",
   "metadata": {},
   "source": [
    "**TSS**"
   ]
  },
  {
   "cell_type": "code",
   "execution_count": 11,
   "id": "628ec586",
   "metadata": {},
   "outputs": [
    {
     "name": "stdout",
     "output_type": "stream",
     "text": [
      "ESS =  3.217689382756802e+16\n",
      "SSE =  7.092045767416913e+16\n",
      "TSS =  1.0309735150173715e+17\n"
     ]
    }
   ],
   "source": [
    "TSS = ESS + SSE\n",
    "print(\"ESS = \", ESS)\n",
    "print(\"SSE = \", SSE)\n",
    "print(\"TSS = \", TSS)"
   ]
  },
  {
   "cell_type": "markdown",
   "id": "41e66d8c",
   "metadata": {},
   "source": [
    "**MSE**"
   ]
  },
  {
   "cell_type": "code",
   "execution_count": 12,
   "id": "fa3f8cec",
   "metadata": {},
   "outputs": [
    {
     "data": {
      "text/plain": [
       "(57290849901.01731, 87883303958.6334)"
      ]
     },
     "execution_count": 12,
     "metadata": {},
     "output_type": "execute_result"
    }
   ],
   "source": [
    "# calculate root mean squared error\n",
    "MSE = mean_squared_error(df_eval.tax_value, df_eval.y_hat)\n",
    "\n",
    "# calculate baseline mean squared error\n",
    "MSE_base = mean_squared_error(df_eval.tax_value, df_eval.y_hat_baseline)\n",
    "(MSE, MSE_base)"
   ]
  },
  {
   "cell_type": "markdown",
   "id": "f695454c",
   "metadata": {},
   "source": [
    "**RMSE**"
   ]
  },
  {
   "cell_type": "code",
   "execution_count": 13,
   "id": "5d4a7f07",
   "metadata": {},
   "outputs": [
    {
     "data": {
      "text/plain": [
       "(239355.0707652071, 296451.18309535115)"
      ]
     },
     "execution_count": 13,
     "metadata": {},
     "output_type": "execute_result"
    }
   ],
   "source": [
    "# calculate root mean squared error\n",
    "RMSE = math.sqrt(mean_squared_error(df_eval.tax_value, df_eval.y_hat))\n",
    "\n",
    "# calculate baseline root mean squared error\n",
    "RMSE_base = math.sqrt(mean_squared_error(df_eval.tax_value, df_eval.y_hat_baseline))\n",
    "(RMSE, RMSE_base)"
   ]
  },
  {
   "cell_type": "markdown",
   "id": "9df8c713",
   "metadata": {},
   "source": [
    "**Write python code that compares the sum of squared errors for your model against the sum of squared errors for the baseline model and outputs whether or not your model performs better than the baseline model.**"
   ]
  },
  {
   "cell_type": "code",
   "execution_count": 14,
   "id": "1a2f8df8",
   "metadata": {},
   "outputs": [],
   "source": [
    "df_eval_break = pd.DataFrame(np.array(['SSE','MSE','RMSE']), columns=['metric'])\n",
    "df_baseline_eval_break = pd.DataFrame(np.array(['SSE_baseline','MSE_baseline','RMSE_baseline']), columns=['metric'])\n",
    "\n",
    "df_eval_break['model_error'] = np.array([SSE, MSE, RMSE])\n",
    "df_baseline_eval_break['model_error'] = np.array([SSE_base, MSE_base, RMSE_base])\n"
   ]
  },
  {
   "cell_type": "code",
   "execution_count": 15,
   "id": "75a972ad",
   "metadata": {},
   "outputs": [
    {
     "data": {
      "text/html": [
       "<div>\n",
       "<style scoped>\n",
       "    .dataframe tbody tr th:only-of-type {\n",
       "        vertical-align: middle;\n",
       "    }\n",
       "\n",
       "    .dataframe tbody tr th {\n",
       "        vertical-align: top;\n",
       "    }\n",
       "\n",
       "    .dataframe thead th {\n",
       "        text-align: right;\n",
       "    }\n",
       "</style>\n",
       "<table border=\"1\" class=\"dataframe\">\n",
       "  <thead>\n",
       "    <tr style=\"text-align: right;\">\n",
       "      <th></th>\n",
       "      <th>metric</th>\n",
       "      <th>model_error</th>\n",
       "    </tr>\n",
       "  </thead>\n",
       "  <tbody>\n",
       "    <tr>\n",
       "      <th>0</th>\n",
       "      <td>SSE</td>\n",
       "      <td>7.092046e+16</td>\n",
       "    </tr>\n",
       "    <tr>\n",
       "      <th>1</th>\n",
       "      <td>MSE</td>\n",
       "      <td>5.729085e+10</td>\n",
       "    </tr>\n",
       "    <tr>\n",
       "      <th>2</th>\n",
       "      <td>RMSE</td>\n",
       "      <td>2.393551e+05</td>\n",
       "    </tr>\n",
       "  </tbody>\n",
       "</table>\n",
       "</div>"
      ],
      "text/plain": [
       "  metric   model_error\n",
       "0    SSE  7.092046e+16\n",
       "1    MSE  5.729085e+10\n",
       "2   RMSE  2.393551e+05"
      ]
     },
     "execution_count": 15,
     "metadata": {},
     "output_type": "execute_result"
    }
   ],
   "source": [
    "df_eval_break"
   ]
  },
  {
   "cell_type": "code",
   "execution_count": 16,
   "id": "28ccd2a1",
   "metadata": {
    "scrolled": false
   },
   "outputs": [
    {
     "data": {
      "text/html": [
       "<div>\n",
       "<style scoped>\n",
       "    .dataframe tbody tr th:only-of-type {\n",
       "        vertical-align: middle;\n",
       "    }\n",
       "\n",
       "    .dataframe tbody tr th {\n",
       "        vertical-align: top;\n",
       "    }\n",
       "\n",
       "    .dataframe thead th {\n",
       "        text-align: right;\n",
       "    }\n",
       "</style>\n",
       "<table border=\"1\" class=\"dataframe\">\n",
       "  <thead>\n",
       "    <tr style=\"text-align: right;\">\n",
       "      <th></th>\n",
       "      <th>metric</th>\n",
       "      <th>model_error</th>\n",
       "    </tr>\n",
       "  </thead>\n",
       "  <tbody>\n",
       "    <tr>\n",
       "      <th>0</th>\n",
       "      <td>SSE_baseline</td>\n",
       "      <td>1.087909e+17</td>\n",
       "    </tr>\n",
       "    <tr>\n",
       "      <th>1</th>\n",
       "      <td>MSE_baseline</td>\n",
       "      <td>8.788330e+10</td>\n",
       "    </tr>\n",
       "    <tr>\n",
       "      <th>2</th>\n",
       "      <td>RMSE_baseline</td>\n",
       "      <td>2.964512e+05</td>\n",
       "    </tr>\n",
       "  </tbody>\n",
       "</table>\n",
       "</div>"
      ],
      "text/plain": [
       "          metric   model_error\n",
       "0   SSE_baseline  1.087909e+17\n",
       "1   MSE_baseline  8.788330e+10\n",
       "2  RMSE_baseline  2.964512e+05"
      ]
     },
     "execution_count": 16,
     "metadata": {},
     "output_type": "execute_result"
    }
   ],
   "source": [
    "df_baseline_eval_break"
   ]
  },
  {
   "cell_type": "markdown",
   "id": "b0d01ee6",
   "metadata": {},
   "source": [
    "**What is the amount of variance explained in your model?**\n",
    "\n",
    "$R^2$ coeficient"
   ]
  },
  {
   "cell_type": "code",
   "execution_count": 17,
   "id": "add4ccf5",
   "metadata": {},
   "outputs": [
    {
     "name": "stdout",
     "output_type": "stream",
     "text": [
      "Explained Variance =  0.312\n"
     ]
    }
   ],
   "source": [
    "# sklearn.metrics.explained_variance_score\n",
    "\n",
    "evs = explained_variance_score(df_eval.tax_value, df_eval.y_hat)\n",
    "print('Explained Variance = ', round(evs,3))"
   ]
  },
  {
   "cell_type": "markdown",
   "id": "0e991527",
   "metadata": {},
   "source": [
    "**Is your model better than the baseline model?**"
   ]
  },
  {
   "cell_type": "markdown",
   "id": "b2b27b1b",
   "metadata": {},
   "source": [
    "Yes"
   ]
  },
  {
   "cell_type": "markdown",
   "id": "77e6be3f",
   "metadata": {},
   "source": [
    "Create a file named evaluate.py that contains the following functions.\n",
    "\n",
    "- plot_residuals(y, yhat): creates a residual plot\n",
    "- regression_errors(y, yhat): returns the following values:\n",
    "    - sum of squared errors (SSE)\n",
    "    - explained sum of squares (ESS)\n",
    "    - total sum of squares (TSS)\n",
    "    - mean squared error (MSE)\n",
    "    - root mean squared error (RMSE)\n",
    "    \n",
    "___________\n",
    "- baseline_mean_errors(y): computes the SSE, MSE, and RMSE for the baseline model\n",
    "- better_than_baseline(y, yhat): returns true if your model performs better than the baseline, otherwise false"
   ]
  }
 ],
 "metadata": {
  "kernelspec": {
   "display_name": "Python 3 (ipykernel)",
   "language": "python",
   "name": "python3"
  },
  "language_info": {
   "codemirror_mode": {
    "name": "ipython",
    "version": 3
   },
   "file_extension": ".py",
   "mimetype": "text/x-python",
   "name": "python",
   "nbconvert_exporter": "python",
   "pygments_lexer": "ipython3",
   "version": "3.10.9"
  }
 },
 "nbformat": 4,
 "nbformat_minor": 5
}
