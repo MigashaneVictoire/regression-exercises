{
 "cells": [
  {
   "cell_type": "markdown",
   "id": "06174f04",
   "metadata": {},
   "source": [
    "# Acquire\n",
    "\n",
    "**Goal: Your goal is to predict the values of single unit properties using the obervations from 2017.**\n",
    "\n",
    "**import**"
   ]
  },
  {
   "cell_type": "code",
   "execution_count": 1,
   "id": "6d5743ee",
   "metadata": {},
   "outputs": [],
   "source": [
    "import warnings\n",
    "warnings.filterwarnings(\"ignore\")\n",
    "\n",
    "import pandas as pd\n",
    "import matplotlib.pyplot as plt\n",
    "import seaborn as sns\n",
    "import numpy as np\n",
    "import sys\n",
    "from sklearn.model_selection import train_test_split\n",
    "\n",
    "sys.path.append(\"./util_\")\n",
    "import acquire_\n",
    "import prepare_\n"
   ]
  },
  {
   "cell_type": "markdown",
   "id": "b82b4656",
   "metadata": {},
   "source": [
    "**get data**"
   ]
  },
  {
   "cell_type": "code",
   "execution_count": 51,
   "id": "15a0f3a0",
   "metadata": {},
   "outputs": [],
   "source": [
    "# sql query\n",
    "query = \"\"\"\n",
    "SELECT bedroomcnt, \n",
    "\t\tbathroomcnt,\n",
    "        calculatedfinishedsquarefeet,\n",
    "        taxvaluedollarcnt,\n",
    "        yearbuilt,\n",
    "        taxamount,\n",
    "        fips\n",
    "FROM properties_2017\n",
    "WHERE propertylandusetypeid = 261 -- Single family home\n",
    "\"\"\"\n",
    "\n",
    "# UNION\n",
    "\n",
    "# SELECT bedroomcnt, \n",
    "# \t\tbathroomcnt,\n",
    "#         calculatedfinishedsquarefeet,\n",
    "#         taxvaluedollarcnt,\n",
    "#         yearbuilt,\n",
    "#         taxamount,\n",
    "#         fips\n",
    "# FROM properties_2017\n",
    "# WHERE propertylandusetypeid = 261 -- Single family home;\n",
    "# \"\"\""
   ]
  },
  {
   "cell_type": "code",
   "execution_count": 52,
   "id": "198f93ec",
   "metadata": {},
   "outputs": [],
   "source": [
    "# get data from codeup database\n",
    "zillow, q = acquire_.get_codeup_sql_data_(db_name=\"zillow\", query=query,fileName=\"zillow_single_family\")"
   ]
  },
  {
   "cell_type": "markdown",
   "id": "60f43d12",
   "metadata": {},
   "source": [
    "## Understand data"
   ]
  },
  {
   "cell_type": "code",
   "execution_count": 53,
   "id": "4ae4da04",
   "metadata": {},
   "outputs": [
    {
     "data": {
      "text/plain": [
       "(2152863, 7)"
      ]
     },
     "execution_count": 53,
     "metadata": {},
     "output_type": "execute_result"
    }
   ],
   "source": [
    "zillow.shape"
   ]
  },
  {
   "cell_type": "code",
   "execution_count": 54,
   "id": "66fcee59",
   "metadata": {},
   "outputs": [
    {
     "data": {
      "text/plain": [
       "Index(['bedroomcnt', 'bathroomcnt', 'calculatedfinishedsquarefeet',\n",
       "       'taxvaluedollarcnt', 'yearbuilt', 'taxamount', 'fips'],\n",
       "      dtype='object')"
      ]
     },
     "execution_count": 54,
     "metadata": {},
     "output_type": "execute_result"
    }
   ],
   "source": [
    "zillow.columns"
   ]
  },
  {
   "cell_type": "code",
   "execution_count": 71,
   "id": "11b576f3",
   "metadata": {},
   "outputs": [
    {
     "name": "stdout",
     "output_type": "stream",
     "text": [
      "<class 'pandas.core.frame.DataFrame'>\n",
      "RangeIndex: 2152863 entries, 0 to 2152862\n",
      "Data columns (total 7 columns):\n",
      " #   Column                        Non-Null Count    Dtype  \n",
      "---  ------                        --------------    -----  \n",
      " 0   bedroomcnt                    2152852 non-null  float64\n",
      " 1   bathroomcnt                   2152852 non-null  float64\n",
      " 2   calculatedfinishedsquarefeet  2144379 non-null  float64\n",
      " 3   taxvaluedollarcnt             2152370 non-null  float64\n",
      " 4   yearbuilt                     2143526 non-null  float64\n",
      " 5   taxamount                     2148421 non-null  float64\n",
      " 6   fips                          2152863 non-null  float64\n",
      "dtypes: float64(7)\n",
      "memory usage: 115.0 MB\n"
     ]
    }
   ],
   "source": [
    "zillow.info(show_counts=True)"
   ]
  },
  {
   "cell_type": "code",
   "execution_count": 56,
   "id": "5078177f",
   "metadata": {},
   "outputs": [
    {
     "data": {
      "text/html": [
       "<div>\n",
       "<style scoped>\n",
       "    .dataframe tbody tr th:only-of-type {\n",
       "        vertical-align: middle;\n",
       "    }\n",
       "\n",
       "    .dataframe tbody tr th {\n",
       "        vertical-align: top;\n",
       "    }\n",
       "\n",
       "    .dataframe thead th {\n",
       "        text-align: right;\n",
       "    }\n",
       "</style>\n",
       "<table border=\"1\" class=\"dataframe\">\n",
       "  <thead>\n",
       "    <tr style=\"text-align: right;\">\n",
       "      <th></th>\n",
       "      <th>bedroomcnt</th>\n",
       "      <th>bathroomcnt</th>\n",
       "      <th>calculatedfinishedsquarefeet</th>\n",
       "      <th>taxvaluedollarcnt</th>\n",
       "      <th>yearbuilt</th>\n",
       "      <th>taxamount</th>\n",
       "      <th>fips</th>\n",
       "    </tr>\n",
       "  </thead>\n",
       "  <tbody>\n",
       "    <tr>\n",
       "      <th>count</th>\n",
       "      <td>2.152852e+06</td>\n",
       "      <td>2.152852e+06</td>\n",
       "      <td>2.144379e+06</td>\n",
       "      <td>2.152370e+06</td>\n",
       "      <td>2.143526e+06</td>\n",
       "      <td>2.148421e+06</td>\n",
       "      <td>2.152863e+06</td>\n",
       "    </tr>\n",
       "    <tr>\n",
       "      <th>mean</th>\n",
       "      <td>3.287196e+00</td>\n",
       "      <td>2.230688e+00</td>\n",
       "      <td>1.862855e+03</td>\n",
       "      <td>4.618962e+05</td>\n",
       "      <td>1.960950e+03</td>\n",
       "      <td>5.634866e+03</td>\n",
       "      <td>6.048377e+03</td>\n",
       "    </tr>\n",
       "    <tr>\n",
       "      <th>std</th>\n",
       "      <td>9.547544e-01</td>\n",
       "      <td>9.992796e-01</td>\n",
       "      <td>1.222125e+03</td>\n",
       "      <td>6.996760e+05</td>\n",
       "      <td>2.216220e+01</td>\n",
       "      <td>8.178910e+03</td>\n",
       "      <td>2.043329e+01</td>\n",
       "    </tr>\n",
       "    <tr>\n",
       "      <th>min</th>\n",
       "      <td>0.000000e+00</td>\n",
       "      <td>0.000000e+00</td>\n",
       "      <td>1.000000e+00</td>\n",
       "      <td>1.000000e+00</td>\n",
       "      <td>1.801000e+03</td>\n",
       "      <td>1.850000e+00</td>\n",
       "      <td>6.037000e+03</td>\n",
       "    </tr>\n",
       "    <tr>\n",
       "      <th>25%</th>\n",
       "      <td>3.000000e+00</td>\n",
       "      <td>2.000000e+00</td>\n",
       "      <td>1.257000e+03</td>\n",
       "      <td>1.881702e+05</td>\n",
       "      <td>1.949000e+03</td>\n",
       "      <td>2.534980e+03</td>\n",
       "      <td>6.037000e+03</td>\n",
       "    </tr>\n",
       "    <tr>\n",
       "      <th>50%</th>\n",
       "      <td>3.000000e+00</td>\n",
       "      <td>2.000000e+00</td>\n",
       "      <td>1.623000e+03</td>\n",
       "      <td>3.276710e+05</td>\n",
       "      <td>1.958000e+03</td>\n",
       "      <td>4.108950e+03</td>\n",
       "      <td>6.037000e+03</td>\n",
       "    </tr>\n",
       "    <tr>\n",
       "      <th>75%</th>\n",
       "      <td>4.000000e+00</td>\n",
       "      <td>3.000000e+00</td>\n",
       "      <td>2.208000e+03</td>\n",
       "      <td>5.345270e+05</td>\n",
       "      <td>1.976000e+03</td>\n",
       "      <td>6.414320e+03</td>\n",
       "      <td>6.059000e+03</td>\n",
       "    </tr>\n",
       "    <tr>\n",
       "      <th>max</th>\n",
       "      <td>2.500000e+01</td>\n",
       "      <td>3.200000e+01</td>\n",
       "      <td>9.525760e+05</td>\n",
       "      <td>9.842891e+07</td>\n",
       "      <td>2.016000e+03</td>\n",
       "      <td>1.337756e+06</td>\n",
       "      <td>6.111000e+03</td>\n",
       "    </tr>\n",
       "  </tbody>\n",
       "</table>\n",
       "</div>"
      ],
      "text/plain": [
       "         bedroomcnt   bathroomcnt  calculatedfinishedsquarefeet  \\\n",
       "count  2.152852e+06  2.152852e+06                  2.144379e+06   \n",
       "mean   3.287196e+00  2.230688e+00                  1.862855e+03   \n",
       "std    9.547544e-01  9.992796e-01                  1.222125e+03   \n",
       "min    0.000000e+00  0.000000e+00                  1.000000e+00   \n",
       "25%    3.000000e+00  2.000000e+00                  1.257000e+03   \n",
       "50%    3.000000e+00  2.000000e+00                  1.623000e+03   \n",
       "75%    4.000000e+00  3.000000e+00                  2.208000e+03   \n",
       "max    2.500000e+01  3.200000e+01                  9.525760e+05   \n",
       "\n",
       "       taxvaluedollarcnt     yearbuilt     taxamount          fips  \n",
       "count       2.152370e+06  2.143526e+06  2.148421e+06  2.152863e+06  \n",
       "mean        4.618962e+05  1.960950e+03  5.634866e+03  6.048377e+03  \n",
       "std         6.996760e+05  2.216220e+01  8.178910e+03  2.043329e+01  \n",
       "min         1.000000e+00  1.801000e+03  1.850000e+00  6.037000e+03  \n",
       "25%         1.881702e+05  1.949000e+03  2.534980e+03  6.037000e+03  \n",
       "50%         3.276710e+05  1.958000e+03  4.108950e+03  6.037000e+03  \n",
       "75%         5.345270e+05  1.976000e+03  6.414320e+03  6.059000e+03  \n",
       "max         9.842891e+07  2.016000e+03  1.337756e+06  6.111000e+03  "
      ]
     },
     "execution_count": 56,
     "metadata": {},
     "output_type": "execute_result"
    }
   ],
   "source": [
    "zillow.describe()"
   ]
  },
  {
   "cell_type": "code",
   "execution_count": 57,
   "id": "93bb08c6",
   "metadata": {},
   "outputs": [
    {
     "name": "stdout",
     "output_type": "stream",
     "text": [
      "Numeric col count: 7\n",
      "object col count: 0\n"
     ]
    }
   ],
   "source": [
    "# count of numeric columns and object columns\n",
    "numerics = len(zillow.select_dtypes(\"number\").columns)\n",
    "objects = len(zillow.select_dtypes(\"object\").columns)\n",
    "\n",
    "print(\"Numeric col count:\", numerics)\n",
    "print(\"object col count:\", objects)"
   ]
  },
  {
   "cell_type": "markdown",
   "id": "82ddac19",
   "metadata": {},
   "source": [
    "**What I see:**\n",
    "\n",
    "- I have 2152863 rows and 7 columns\n",
    "- 7 of the 29 columns are numric while 0 of them are string object colums\n",
    "- I have unsure null values in my data\n",
    "- I also see the descriptive statistics of my data"
   ]
  },
  {
   "cell_type": "markdown",
   "id": "9e6bfa4b",
   "metadata": {},
   "source": [
    "# Prepare"
   ]
  },
  {
   "cell_type": "code",
   "execution_count": 58,
   "id": "75f4327e",
   "metadata": {
    "scrolled": true
   },
   "outputs": [
    {
     "data": {
      "text/html": [
       "<div>\n",
       "<style scoped>\n",
       "    .dataframe tbody tr th:only-of-type {\n",
       "        vertical-align: middle;\n",
       "    }\n",
       "\n",
       "    .dataframe tbody tr th {\n",
       "        vertical-align: top;\n",
       "    }\n",
       "\n",
       "    .dataframe thead th {\n",
       "        text-align: right;\n",
       "    }\n",
       "</style>\n",
       "<table border=\"1\" class=\"dataframe\">\n",
       "  <thead>\n",
       "    <tr style=\"text-align: right;\">\n",
       "      <th></th>\n",
       "      <th>0</th>\n",
       "      <th>1</th>\n",
       "      <th>2</th>\n",
       "      <th>3</th>\n",
       "      <th>4</th>\n",
       "      <th>5</th>\n",
       "      <th>6</th>\n",
       "      <th>7</th>\n",
       "      <th>8</th>\n",
       "      <th>9</th>\n",
       "      <th>...</th>\n",
       "      <th>2152853</th>\n",
       "      <th>2152854</th>\n",
       "      <th>2152855</th>\n",
       "      <th>2152856</th>\n",
       "      <th>2152857</th>\n",
       "      <th>2152858</th>\n",
       "      <th>2152859</th>\n",
       "      <th>2152860</th>\n",
       "      <th>2152861</th>\n",
       "      <th>2152862</th>\n",
       "    </tr>\n",
       "  </thead>\n",
       "  <tbody>\n",
       "    <tr>\n",
       "      <th>bedroomcnt</th>\n",
       "      <td>0.0</td>\n",
       "      <td>0.0</td>\n",
       "      <td>0.0</td>\n",
       "      <td>0.00</td>\n",
       "      <td>4.00</td>\n",
       "      <td>0.0</td>\n",
       "      <td>3.00</td>\n",
       "      <td>3.00</td>\n",
       "      <td>0.00</td>\n",
       "      <td>0.00</td>\n",
       "      <td>...</td>\n",
       "      <td>4.00</td>\n",
       "      <td>0.0</td>\n",
       "      <td>3.0</td>\n",
       "      <td>4.00</td>\n",
       "      <td>0.00</td>\n",
       "      <td>4.00</td>\n",
       "      <td>4.00</td>\n",
       "      <td>0.00</td>\n",
       "      <td>3.0</td>\n",
       "      <td>4.0</td>\n",
       "    </tr>\n",
       "    <tr>\n",
       "      <th>bathroomcnt</th>\n",
       "      <td>0.0</td>\n",
       "      <td>0.0</td>\n",
       "      <td>0.0</td>\n",
       "      <td>0.00</td>\n",
       "      <td>2.00</td>\n",
       "      <td>0.0</td>\n",
       "      <td>4.00</td>\n",
       "      <td>2.00</td>\n",
       "      <td>0.00</td>\n",
       "      <td>0.00</td>\n",
       "      <td>...</td>\n",
       "      <td>2.00</td>\n",
       "      <td>0.0</td>\n",
       "      <td>2.5</td>\n",
       "      <td>4.00</td>\n",
       "      <td>0.00</td>\n",
       "      <td>3.00</td>\n",
       "      <td>4.50</td>\n",
       "      <td>0.00</td>\n",
       "      <td>2.5</td>\n",
       "      <td>4.0</td>\n",
       "    </tr>\n",
       "    <tr>\n",
       "      <th>calculatedfinishedsquarefeet</th>\n",
       "      <td>NaN</td>\n",
       "      <td>NaN</td>\n",
       "      <td>NaN</td>\n",
       "      <td>NaN</td>\n",
       "      <td>3633.00</td>\n",
       "      <td>NaN</td>\n",
       "      <td>1620.00</td>\n",
       "      <td>2077.00</td>\n",
       "      <td>NaN</td>\n",
       "      <td>NaN</td>\n",
       "      <td>...</td>\n",
       "      <td>1987.00</td>\n",
       "      <td>NaN</td>\n",
       "      <td>1809.0</td>\n",
       "      <td>4375.00</td>\n",
       "      <td>NaN</td>\n",
       "      <td>2262.00</td>\n",
       "      <td>3127.00</td>\n",
       "      <td>NaN</td>\n",
       "      <td>1974.0</td>\n",
       "      <td>2110.0</td>\n",
       "    </tr>\n",
       "    <tr>\n",
       "      <th>taxvaluedollarcnt</th>\n",
       "      <td>27516.0</td>\n",
       "      <td>10.0</td>\n",
       "      <td>10.0</td>\n",
       "      <td>2108.00</td>\n",
       "      <td>296425.00</td>\n",
       "      <td>124.0</td>\n",
       "      <td>847770.00</td>\n",
       "      <td>646760.00</td>\n",
       "      <td>6730242.00</td>\n",
       "      <td>15532.00</td>\n",
       "      <td>...</td>\n",
       "      <td>259913.00</td>\n",
       "      <td>1198476.0</td>\n",
       "      <td>405547.0</td>\n",
       "      <td>422400.00</td>\n",
       "      <td>1087111.00</td>\n",
       "      <td>960756.00</td>\n",
       "      <td>536061.00</td>\n",
       "      <td>208057.00</td>\n",
       "      <td>424353.0</td>\n",
       "      <td>554009.0</td>\n",
       "    </tr>\n",
       "    <tr>\n",
       "      <th>yearbuilt</th>\n",
       "      <td>NaN</td>\n",
       "      <td>NaN</td>\n",
       "      <td>NaN</td>\n",
       "      <td>NaN</td>\n",
       "      <td>2005.00</td>\n",
       "      <td>NaN</td>\n",
       "      <td>2011.00</td>\n",
       "      <td>1926.00</td>\n",
       "      <td>NaN</td>\n",
       "      <td>NaN</td>\n",
       "      <td>...</td>\n",
       "      <td>1955.00</td>\n",
       "      <td>NaN</td>\n",
       "      <td>2012.0</td>\n",
       "      <td>2015.00</td>\n",
       "      <td>NaN</td>\n",
       "      <td>2015.00</td>\n",
       "      <td>2014.00</td>\n",
       "      <td>NaN</td>\n",
       "      <td>2015.0</td>\n",
       "      <td>2014.0</td>\n",
       "    </tr>\n",
       "    <tr>\n",
       "      <th>taxamount</th>\n",
       "      <td>NaN</td>\n",
       "      <td>NaN</td>\n",
       "      <td>NaN</td>\n",
       "      <td>174.21</td>\n",
       "      <td>6941.39</td>\n",
       "      <td>NaN</td>\n",
       "      <td>10244.94</td>\n",
       "      <td>7924.68</td>\n",
       "      <td>80348.13</td>\n",
       "      <td>248.89</td>\n",
       "      <td>...</td>\n",
       "      <td>3175.66</td>\n",
       "      <td>NaN</td>\n",
       "      <td>4181.1</td>\n",
       "      <td>13877.56</td>\n",
       "      <td>19313.08</td>\n",
       "      <td>13494.52</td>\n",
       "      <td>6244.16</td>\n",
       "      <td>5783.88</td>\n",
       "      <td>5302.7</td>\n",
       "      <td>6761.2</td>\n",
       "    </tr>\n",
       "    <tr>\n",
       "      <th>fips</th>\n",
       "      <td>6037.0</td>\n",
       "      <td>6037.0</td>\n",
       "      <td>6037.0</td>\n",
       "      <td>6037.00</td>\n",
       "      <td>6037.00</td>\n",
       "      <td>6037.0</td>\n",
       "      <td>6037.00</td>\n",
       "      <td>6037.00</td>\n",
       "      <td>6037.00</td>\n",
       "      <td>6037.00</td>\n",
       "      <td>...</td>\n",
       "      <td>6059.00</td>\n",
       "      <td>6037.0</td>\n",
       "      <td>6059.0</td>\n",
       "      <td>6037.00</td>\n",
       "      <td>6059.00</td>\n",
       "      <td>6059.00</td>\n",
       "      <td>6059.00</td>\n",
       "      <td>6059.00</td>\n",
       "      <td>6059.0</td>\n",
       "      <td>6037.0</td>\n",
       "    </tr>\n",
       "  </tbody>\n",
       "</table>\n",
       "<p>7 rows × 2152863 columns</p>\n",
       "</div>"
      ],
      "text/plain": [
       "                              0        1        2        3          4        \\\n",
       "bedroomcnt                        0.0      0.0      0.0     0.00       4.00   \n",
       "bathroomcnt                       0.0      0.0      0.0     0.00       2.00   \n",
       "calculatedfinishedsquarefeet      NaN      NaN      NaN      NaN    3633.00   \n",
       "taxvaluedollarcnt             27516.0     10.0     10.0  2108.00  296425.00   \n",
       "yearbuilt                         NaN      NaN      NaN      NaN    2005.00   \n",
       "taxamount                         NaN      NaN      NaN   174.21    6941.39   \n",
       "fips                           6037.0   6037.0   6037.0  6037.00    6037.00   \n",
       "\n",
       "                              5          6          7           8        \\\n",
       "bedroomcnt                        0.0       3.00       3.00        0.00   \n",
       "bathroomcnt                       0.0       4.00       2.00        0.00   \n",
       "calculatedfinishedsquarefeet      NaN    1620.00    2077.00         NaN   \n",
       "taxvaluedollarcnt               124.0  847770.00  646760.00  6730242.00   \n",
       "yearbuilt                         NaN    2011.00    1926.00         NaN   \n",
       "taxamount                         NaN   10244.94    7924.68    80348.13   \n",
       "fips                           6037.0    6037.00    6037.00     6037.00   \n",
       "\n",
       "                               9        ...    2152853    2152854   2152855  \\\n",
       "bedroomcnt                        0.00  ...       4.00        0.0       3.0   \n",
       "bathroomcnt                       0.00  ...       2.00        0.0       2.5   \n",
       "calculatedfinishedsquarefeet       NaN  ...    1987.00        NaN    1809.0   \n",
       "taxvaluedollarcnt             15532.00  ...  259913.00  1198476.0  405547.0   \n",
       "yearbuilt                          NaN  ...    1955.00        NaN    2012.0   \n",
       "taxamount                       248.89  ...    3175.66        NaN    4181.1   \n",
       "fips                           6037.00  ...    6059.00     6037.0    6059.0   \n",
       "\n",
       "                                2152856     2152857    2152858    2152859  \\\n",
       "bedroomcnt                         4.00        0.00       4.00       4.00   \n",
       "bathroomcnt                        4.00        0.00       3.00       4.50   \n",
       "calculatedfinishedsquarefeet    4375.00         NaN    2262.00    3127.00   \n",
       "taxvaluedollarcnt             422400.00  1087111.00  960756.00  536061.00   \n",
       "yearbuilt                       2015.00         NaN    2015.00    2014.00   \n",
       "taxamount                      13877.56    19313.08   13494.52    6244.16   \n",
       "fips                            6037.00     6059.00    6059.00    6059.00   \n",
       "\n",
       "                                2152860   2152861   2152862  \n",
       "bedroomcnt                         0.00       3.0       4.0  \n",
       "bathroomcnt                        0.00       2.5       4.0  \n",
       "calculatedfinishedsquarefeet        NaN    1974.0    2110.0  \n",
       "taxvaluedollarcnt             208057.00  424353.0  554009.0  \n",
       "yearbuilt                           NaN    2015.0    2014.0  \n",
       "taxamount                       5783.88    5302.7    6761.2  \n",
       "fips                            6059.00    6059.0    6037.0  \n",
       "\n",
       "[7 rows x 2152863 columns]"
      ]
     },
     "execution_count": 58,
     "metadata": {},
     "output_type": "execute_result"
    }
   ],
   "source": [
    "zillow.T"
   ]
  },
  {
   "cell_type": "markdown",
   "id": "fb266d4e",
   "metadata": {},
   "source": [
    "**drop nulls**"
   ]
  },
  {
   "cell_type": "code",
   "execution_count": 74,
   "id": "2c08a476",
   "metadata": {},
   "outputs": [],
   "source": [
    "# drop all nulls in the dataframe\n",
    "zillow = zillow.dropna()"
   ]
  },
  {
   "cell_type": "code",
   "execution_count": 79,
   "id": "7a939fa9",
   "metadata": {},
   "outputs": [],
   "source": [
    "# convert data type from float to int\n",
    "zillow.bedroomcnt = zillow.bedroomcnt.astype(int)\n",
    "zillow.yearbuilt = zillow.yearbuilt.astype(int)"
   ]
  },
  {
   "cell_type": "markdown",
   "id": "d20cbb95",
   "metadata": {},
   "source": [
    "**Plot**"
   ]
  },
  {
   "cell_type": "code",
   "execution_count": 88,
   "id": "8484c7d5",
   "metadata": {
    "scrolled": true
   },
   "outputs": [
    {
     "name": "stdout",
     "output_type": "stream",
     "text": [
      "BEDROOMCNT\n",
      "3     962944\n",
      "4     633608\n",
      "2     334221\n",
      "5     150671\n",
      "6      25117\n",
      "1      22895\n",
      "7       4792\n",
      "0       4397\n",
      "8       1103\n",
      "9        290\n",
      "10       118\n",
      "11        34\n",
      "13        15\n",
      "12        12\n",
      "14         7\n",
      "15         5\n",
      "18         3\n",
      "16         2\n",
      "25         1\n",
      "Name: bedroomcnt, dtype: int64\n",
      "3     4.499244e-01\n",
      "4     2.960460e-01\n",
      "2     1.561609e-01\n",
      "5     7.039928e-02\n",
      "6     1.173563e-02\n",
      "1     1.069742e-02\n",
      "7     2.239006e-03\n",
      "0     2.054447e-03\n",
      "8     5.153640e-04\n",
      "9     1.354991e-04\n",
      "10    5.513413e-05\n",
      "11    1.588611e-05\n",
      "13    7.008576e-06\n",
      "12    5.606861e-06\n",
      "14    3.270669e-06\n",
      "15    2.336192e-06\n",
      "18    1.401715e-06\n",
      "16    9.344768e-07\n",
      "25    4.672384e-07\n",
      "Name: bedroomcnt, dtype: float64\n"
     ]
    },
    {
     "data": {
      "image/png": "[encoded data removed]",
      "text/plain": [
       "<Figure size 500x300 with 1 Axes>"
      ]
     },
     "metadata": {},
     "output_type": "display_data"
    },
    {
     "name": "stdout",
     "output_type": "stream",
     "text": [
      "BATHROOMCNT\n",
      "2.00     942463\n",
      "3.00     422398\n",
      "1.00     412582\n",
      "2.50     142827\n",
      "4.00      82039\n",
      "1.50      31157\n",
      "3.50      28464\n",
      "5.00      28306\n",
      "4.50      19474\n",
      "6.00      10717\n",
      "5.50       6201\n",
      "7.00       4381\n",
      "0.00       4274\n",
      "8.00       1681\n",
      "6.50       1330\n",
      "9.00        707\n",
      "7.50        382\n",
      "10.00       322\n",
      "11.00       145\n",
      "8.50        108\n",
      "12.00        73\n",
      "9.50         50\n",
      "13.00        39\n",
      "14.00        25\n",
      "15.00        17\n",
      "0.50         16\n",
      "10.50        14\n",
      "16.00        12\n",
      "18.00         8\n",
      "20.00         6\n",
      "17.00         4\n",
      "1.75          3\n",
      "12.50         3\n",
      "11.50         3\n",
      "19.50         1\n",
      "14.50         1\n",
      "32.00         1\n",
      "19.00         1\n",
      "Name: bathroomcnt, dtype: int64\n",
      "2.00     4.403549e-01\n",
      "3.00     1.973606e-01\n",
      "1.00     1.927742e-01\n",
      "2.50     6.673426e-02\n",
      "4.00     3.833177e-02\n",
      "1.50     1.455775e-02\n",
      "3.50     1.329947e-02\n",
      "5.00     1.322565e-02\n",
      "4.50     9.099001e-03\n",
      "6.00     5.007394e-03\n",
      "5.50     2.897345e-03\n",
      "7.00     2.046971e-03\n",
      "0.00     1.996977e-03\n",
      "8.00     7.854278e-04\n",
      "6.50     6.214271e-04\n",
      "9.00     3.303376e-04\n",
      "7.50     1.784851e-04\n",
      "10.00    1.504508e-04\n",
      "11.00    6.774957e-05\n",
      "8.50     5.046175e-05\n",
      "12.00    3.410840e-05\n",
      "9.50     2.336192e-05\n",
      "13.00    1.822230e-05\n",
      "14.00    1.168096e-05\n",
      "15.00    7.943053e-06\n",
      "0.50     7.475815e-06\n",
      "10.50    6.541338e-06\n",
      "16.00    5.606861e-06\n",
      "18.00    3.737907e-06\n",
      "20.00    2.803430e-06\n",
      "17.00    1.868954e-06\n",
      "1.75     1.401715e-06\n",
      "12.50    1.401715e-06\n",
      "11.50    1.401715e-06\n",
      "19.50    4.672384e-07\n",
      "14.50    4.672384e-07\n",
      "32.00    4.672384e-07\n",
      "19.00    4.672384e-07\n",
      "Name: bathroomcnt, dtype: float64\n"
     ]
    },
    {
     "data": {
      "image/png": "[encoded data removed]",
      "text/plain": [
       "<Figure size 500x300 with 1 Axes>"
      ]
     },
     "metadata": {},
     "output_type": "display_data"
    },
    {
     "name": "stdout",
     "output_type": "stream",
     "text": [
      "CALCULATEDFINISHEDSQUAREFEET\n",
      "1200.0     5184\n",
      "1080.0     4376\n",
      "1120.0     4354\n",
      "1400.0     3828\n",
      "1440.0     3684\n",
      "           ... \n",
      "10180.0       1\n",
      "13169.0       1\n",
      "9095.0        1\n",
      "10525.0       1\n",
      "24920.0       1\n",
      "Name: calculatedfinishedsquarefeet, Length: 10557, dtype: int64\n",
      "1200.0     2.422164e-03\n",
      "1080.0     2.044635e-03\n",
      "1120.0     2.034356e-03\n",
      "1400.0     1.788589e-03\n",
      "1440.0     1.721306e-03\n",
      "               ...     \n",
      "10180.0    4.672384e-07\n",
      "13169.0    4.672384e-07\n",
      "9095.0     4.672384e-07\n",
      "10525.0    4.672384e-07\n",
      "24920.0    4.672384e-07\n",
      "Name: calculatedfinishedsquarefeet, Length: 10557, dtype: float64\n"
     ]
    },
    {
     "data": {
      "image/png": "[encoded data removed]",
      "text/plain": [
       "<Figure size 500x300 with 1 Axes>"
      ]
     },
     "metadata": {},
     "output_type": "display_data"
    },
    {
     "name": "stdout",
     "output_type": "stream",
     "text": [
      "TAXVALUEDOLLARCNT\n",
      "450000.0    820\n",
      "500000.0    774\n",
      "400000.0    723\n",
      "430000.0    690\n",
      "440000.0    683\n",
      "           ... \n",
      "729523.0      1\n",
      "940139.0      1\n",
      "545367.0      1\n",
      "38804.0       1\n",
      "536061.0      1\n",
      "Name: taxvaluedollarcnt, Length: 588178, dtype: int64\n",
      "450000.0    3.831355e-04\n",
      "500000.0    3.616425e-04\n",
      "400000.0    3.378134e-04\n",
      "430000.0    3.223945e-04\n",
      "440000.0    3.191238e-04\n",
      "                ...     \n",
      "729523.0    4.672384e-07\n",
      "940139.0    4.672384e-07\n",
      "545367.0    4.672384e-07\n",
      "38804.0     4.672384e-07\n",
      "536061.0    4.672384e-07\n",
      "Name: taxvaluedollarcnt, Length: 588178, dtype: float64\n"
     ]
    },
    {
     "data": {
      "image/png": "[encoded data removed]",
      "text/plain": [
       "<Figure size 500x300 with 1 Axes>"
      ]
     },
     "metadata": {},
     "output_type": "display_data"
    },
    {
     "name": "stdout",
     "output_type": "stream",
     "text": [
      "YEARBUILT\n",
      "1955    84329\n",
      "1950    71606\n",
      "1954    69069\n",
      "1953    62270\n",
      "1956    61858\n",
      "        ...  \n",
      "1855        1\n",
      "1879        1\n",
      "1833        1\n",
      "1840        1\n",
      "1874        1\n",
      "Name: yearbuilt, Length: 153, dtype: int64\n",
      "1955    3.940175e-02\n",
      "1950    3.345707e-02\n",
      "1954    3.227169e-02\n",
      "1953    2.909494e-02\n",
      "1956    2.890243e-02\n",
      "            ...     \n",
      "1855    4.672384e-07\n",
      "1879    4.672384e-07\n",
      "1833    4.672384e-07\n",
      "1840    4.672384e-07\n",
      "1874    4.672384e-07\n",
      "Name: yearbuilt, Length: 153, dtype: float64\n"
     ]
    },
    {
     "data": {
      "image/png": "[encoded data removed]",
      "text/plain": [
       "<Figure size 500x300 with 1 Axes>"
      ]
     },
     "metadata": {},
     "output_type": "display_data"
    },
    {
     "name": "stdout",
     "output_type": "stream",
     "text": [
      "TAXAMOUNT\n",
      "345.72      172\n",
      "344.18       76\n",
      "343.52       74\n",
      "49.18        46\n",
      "388.18       37\n",
      "           ... \n",
      "8191.38       1\n",
      "11627.92      1\n",
      "15008.68      1\n",
      "9227.22       1\n",
      "13494.52      1\n",
      "Name: taxamount, Length: 915868, dtype: int64\n",
      "345.72      8.036501e-05\n",
      "344.18      3.551012e-05\n",
      "343.52      3.457564e-05\n",
      "49.18       2.149297e-05\n",
      "388.18      1.728782e-05\n",
      "                ...     \n",
      "8191.38     4.672384e-07\n",
      "11627.92    4.672384e-07\n",
      "15008.68    4.672384e-07\n",
      "9227.22     4.672384e-07\n",
      "13494.52    4.672384e-07\n",
      "Name: taxamount, Length: 915868, dtype: float64\n"
     ]
    },
    {
     "data": {
      "image/png": "[encoded data removed]",
      "text/plain": [
       "<Figure size 500x300 with 1 Axes>"
      ]
     },
     "metadata": {},
     "output_type": "display_data"
    },
    {
     "name": "stdout",
     "output_type": "stream",
     "text": [
      "FIPS\n",
      "6037.0    1425207\n",
      "6059.0     552057\n",
      "6111.0     162971\n",
      "Name: fips, dtype: int64\n",
      "6037.0    0.665911\n",
      "6059.0    0.257942\n",
      "6111.0    0.076146\n",
      "Name: fips, dtype: float64\n"
     ]
    },
    {
     "data": {
      "image/png": "[encoded data removed]",
      "text/plain": [
       "<Figure size 500x300 with 1 Axes>"
      ]
     },
     "metadata": {},
     "output_type": "display_data"
    }
   ],
   "source": [
    "# plot distributions\n",
    "for i in zillow.columns:\n",
    "    print(i.upper())\n",
    "    print(zillow[i].value_counts())\n",
    "    print(zillow[i].value_counts(normalize=True))\n",
    "    \n",
    "    plt.figure(figsize=(5,3))\n",
    "    sns.distplot(zillow[i])\n",
    "    plt.show()"
   ]
  },
  {
   "cell_type": "markdown",
   "id": "500c9ba1",
   "metadata": {},
   "source": [
    "## Split"
   ]
  },
  {
   "cell_type": "code",
   "execution_count": 94,
   "id": "b32faa67",
   "metadata": {},
   "outputs": [
    {
     "data": {
      "text/plain": [
       "((1284141, 7), (428047, 7), (428047, 7))"
      ]
     },
     "execution_count": 94,
     "metadata": {},
     "output_type": "execute_result"
    }
   ],
   "source": [
    "# split the data into training, validation and testing sets\n",
    "train, validate, test = prepare_.split_data_(df=zillow,\n",
    "                    test_size=0.2, \n",
    "                     validate_size=0.2, \n",
    "                     random_state=95)\n",
    "(train.shape, validate.shape, test.shape)"
   ]
  }
 ],
 "metadata": {
  "kernelspec": {
   "display_name": "Python 3 (ipykernel)",
   "language": "python",
   "name": "python3"
  },
  "language_info": {
   "codemirror_mode": {
    "name": "ipython",
    "version": 3
   },
   "file_extension": ".py",
   "mimetype": "text/x-python",
   "name": "python",
   "nbconvert_exporter": "python",
   "pygments_lexer": "ipython3",
   "version": "3.10.9"
  }
 },
 "nbformat": 4,
 "nbformat_minor": 5
}
