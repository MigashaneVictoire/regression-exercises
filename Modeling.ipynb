{
 "cells": [
  {
   "cell_type": "code",
   "execution_count": 1,
   "id": "7796b0c2",
   "metadata": {},
   "outputs": [],
   "source": [
    "import pandas as pd\n",
    "import numpy as np\n",
    "import matplotlib.pyplot as plt\n",
    "import seaborn as sns\n",
    "import pydataset\n",
    "import sys\n",
    "\n",
    "# modeling methods\n",
    "from sklearn.metrics import mean_squared_error\n",
    "from sklearn.linear_model import LinearRegression, LassoLars, TweedieRegressor\n",
    "from sklearn.preprocessing import PolynomialFeatures\n",
    "from sklearn.metrics import explained_variance_score\n",
    "\n",
    "# feature selection\n",
    "from sklearn.feature_selection import RFE # Recursive Feature Elimination¶\n",
    "\n",
    "# scaling\n",
    "import sklearn.preprocessing as preprocess\n",
    "\n",
    "import warnings\n",
    "warnings.filterwarnings(\"ignore\")\n",
    "\n",
    "\n",
    "# set a default them for all my visuals\n",
    "sns.set_theme(style=\"whitegrid\")\n",
    "\n",
    "sys.path.append(\"./util_\")\n",
    "# Personal libraries\n",
    "import prepare_"
   ]
  },
  {
   "cell_type": "markdown",
   "id": "4472f775",
   "metadata": {},
   "source": [
    "**Get data**"
   ]
  },
  {
   "cell_type": "code",
   "execution_count": 2,
   "id": "52175d4d",
   "metadata": {},
   "outputs": [
    {
     "data": {
      "text/html": [
       "<div>\n",
       "<style scoped>\n",
       "    .dataframe tbody tr th:only-of-type {\n",
       "        vertical-align: middle;\n",
       "    }\n",
       "\n",
       "    .dataframe tbody tr th {\n",
       "        vertical-align: top;\n",
       "    }\n",
       "\n",
       "    .dataframe thead th {\n",
       "        text-align: right;\n",
       "    }\n",
       "</style>\n",
       "<table border=\"1\" class=\"dataframe\">\n",
       "  <thead>\n",
       "    <tr style=\"text-align: right;\">\n",
       "      <th></th>\n",
       "      <th>total_bill</th>\n",
       "      <th>tip</th>\n",
       "      <th>sex</th>\n",
       "      <th>smoker</th>\n",
       "      <th>day</th>\n",
       "      <th>time</th>\n",
       "      <th>size</th>\n",
       "    </tr>\n",
       "  </thead>\n",
       "  <tbody>\n",
       "    <tr>\n",
       "      <th>1</th>\n",
       "      <td>16.99</td>\n",
       "      <td>1.01</td>\n",
       "      <td>Female</td>\n",
       "      <td>No</td>\n",
       "      <td>Sun</td>\n",
       "      <td>Dinner</td>\n",
       "      <td>2</td>\n",
       "    </tr>\n",
       "    <tr>\n",
       "      <th>2</th>\n",
       "      <td>10.34</td>\n",
       "      <td>1.66</td>\n",
       "      <td>Male</td>\n",
       "      <td>No</td>\n",
       "      <td>Sun</td>\n",
       "      <td>Dinner</td>\n",
       "      <td>3</td>\n",
       "    </tr>\n",
       "    <tr>\n",
       "      <th>3</th>\n",
       "      <td>21.01</td>\n",
       "      <td>3.50</td>\n",
       "      <td>Male</td>\n",
       "      <td>No</td>\n",
       "      <td>Sun</td>\n",
       "      <td>Dinner</td>\n",
       "      <td>3</td>\n",
       "    </tr>\n",
       "    <tr>\n",
       "      <th>4</th>\n",
       "      <td>23.68</td>\n",
       "      <td>3.31</td>\n",
       "      <td>Male</td>\n",
       "      <td>No</td>\n",
       "      <td>Sun</td>\n",
       "      <td>Dinner</td>\n",
       "      <td>2</td>\n",
       "    </tr>\n",
       "    <tr>\n",
       "      <th>5</th>\n",
       "      <td>24.59</td>\n",
       "      <td>3.61</td>\n",
       "      <td>Female</td>\n",
       "      <td>No</td>\n",
       "      <td>Sun</td>\n",
       "      <td>Dinner</td>\n",
       "      <td>4</td>\n",
       "    </tr>\n",
       "  </tbody>\n",
       "</table>\n",
       "</div>"
      ],
      "text/plain": [
       "   total_bill   tip     sex smoker  day    time  size\n",
       "1       16.99  1.01  Female     No  Sun  Dinner     2\n",
       "2       10.34  1.66    Male     No  Sun  Dinner     3\n",
       "3       21.01  3.50    Male     No  Sun  Dinner     3\n",
       "4       23.68  3.31    Male     No  Sun  Dinner     2\n",
       "5       24.59  3.61  Female     No  Sun  Dinner     4"
      ]
     },
     "execution_count": 2,
     "metadata": {},
     "output_type": "execute_result"
    }
   ],
   "source": [
    "# import tips data set\n",
    "tips = pydataset.data(\"tips\")\n",
    "tips.head()"
   ]
  },
  {
   "cell_type": "code",
   "execution_count": 3,
   "id": "5471e8dc",
   "metadata": {},
   "outputs": [
    {
     "data": {
      "text/plain": [
       "total_bill    0\n",
       "tip           0\n",
       "sex           0\n",
       "smoker        0\n",
       "day           0\n",
       "time          0\n",
       "size          0\n",
       "dtype: int64"
      ]
     },
     "execution_count": 3,
     "metadata": {},
     "output_type": "execute_result"
    }
   ],
   "source": [
    "tips.isna().sum()"
   ]
  },
  {
   "cell_type": "code",
   "execution_count": 4,
   "id": "2ba0f5d1",
   "metadata": {},
   "outputs": [
    {
     "data": {
      "text/html": [
       "<div>\n",
       "<style scoped>\n",
       "    .dataframe tbody tr th:only-of-type {\n",
       "        vertical-align: middle;\n",
       "    }\n",
       "\n",
       "    .dataframe tbody tr th {\n",
       "        vertical-align: top;\n",
       "    }\n",
       "\n",
       "    .dataframe thead th {\n",
       "        text-align: right;\n",
       "    }\n",
       "</style>\n",
       "<table border=\"1\" class=\"dataframe\">\n",
       "  <thead>\n",
       "    <tr style=\"text-align: right;\">\n",
       "      <th></th>\n",
       "      <th>total_bill</th>\n",
       "      <th>tip</th>\n",
       "      <th>sex</th>\n",
       "      <th>smoker</th>\n",
       "      <th>day</th>\n",
       "      <th>time</th>\n",
       "      <th>size</th>\n",
       "      <th>price_per_person</th>\n",
       "    </tr>\n",
       "  </thead>\n",
       "  <tbody>\n",
       "    <tr>\n",
       "      <th>1</th>\n",
       "      <td>16.99</td>\n",
       "      <td>1.01</td>\n",
       "      <td>Female</td>\n",
       "      <td>No</td>\n",
       "      <td>Sun</td>\n",
       "      <td>Dinner</td>\n",
       "      <td>2</td>\n",
       "      <td>8.495000</td>\n",
       "    </tr>\n",
       "    <tr>\n",
       "      <th>2</th>\n",
       "      <td>10.34</td>\n",
       "      <td>1.66</td>\n",
       "      <td>Male</td>\n",
       "      <td>No</td>\n",
       "      <td>Sun</td>\n",
       "      <td>Dinner</td>\n",
       "      <td>3</td>\n",
       "      <td>3.446667</td>\n",
       "    </tr>\n",
       "  </tbody>\n",
       "</table>\n",
       "</div>"
      ],
      "text/plain": [
       "   total_bill   tip     sex smoker  day    time  size  price_per_person\n",
       "1       16.99  1.01  Female     No  Sun  Dinner     2          8.495000\n",
       "2       10.34  1.66    Male     No  Sun  Dinner     3          3.446667"
      ]
     },
     "execution_count": 4,
     "metadata": {},
     "output_type": "execute_result"
    }
   ],
   "source": [
    "# Create a column named price_per_person. This should be the total bill divided by the party size.\n",
    "tips[\"price_per_person\"] = tips.total_bill / tips[\"size\"]\n",
    "tips.head(2)"
   ]
  },
  {
   "cell_type": "markdown",
   "id": "060df2cd",
   "metadata": {},
   "source": [
    "**Split data**"
   ]
  },
  {
   "cell_type": "code",
   "execution_count": 5,
   "id": "c32df313",
   "metadata": {},
   "outputs": [
    {
     "data": {
      "text/plain": [
       "((146, 8), (49, 8), (49, 8))"
      ]
     },
     "execution_count": 5,
     "metadata": {},
     "output_type": "execute_result"
    }
   ],
   "source": [
    "train, validate, test = prepare_.split_data_(tips, random_state=59)\n",
    "train.shape, validate.shape, test.shape"
   ]
  },
  {
   "cell_type": "markdown",
   "id": "5ed35bdc",
   "metadata": {},
   "source": [
    "**Set baseline**"
   ]
  },
  {
   "cell_type": "code",
   "execution_count": 6,
   "id": "1696c3a4",
   "metadata": {},
   "outputs": [
    {
     "data": {
      "text/html": [
       "<div>\n",
       "<style scoped>\n",
       "    .dataframe tbody tr th:only-of-type {\n",
       "        vertical-align: middle;\n",
       "    }\n",
       "\n",
       "    .dataframe tbody tr th {\n",
       "        vertical-align: top;\n",
       "    }\n",
       "\n",
       "    .dataframe thead th {\n",
       "        text-align: right;\n",
       "    }\n",
       "</style>\n",
       "<table border=\"1\" class=\"dataframe\">\n",
       "  <thead>\n",
       "    <tr style=\"text-align: right;\">\n",
       "      <th></th>\n",
       "      <th>total_bill</th>\n",
       "      <th>tip</th>\n",
       "      <th>sex</th>\n",
       "      <th>smoker</th>\n",
       "      <th>day</th>\n",
       "      <th>time</th>\n",
       "      <th>size</th>\n",
       "      <th>price_per_person</th>\n",
       "      <th>baseline</th>\n",
       "    </tr>\n",
       "  </thead>\n",
       "  <tbody>\n",
       "    <tr>\n",
       "      <th>198</th>\n",
       "      <td>43.11</td>\n",
       "      <td>5.0</td>\n",
       "      <td>Female</td>\n",
       "      <td>Yes</td>\n",
       "      <td>Thur</td>\n",
       "      <td>Lunch</td>\n",
       "      <td>4</td>\n",
       "      <td>10.777500</td>\n",
       "      <td>3.108014</td>\n",
       "    </tr>\n",
       "    <tr>\n",
       "      <th>178</th>\n",
       "      <td>14.48</td>\n",
       "      <td>2.0</td>\n",
       "      <td>Male</td>\n",
       "      <td>Yes</td>\n",
       "      <td>Sun</td>\n",
       "      <td>Dinner</td>\n",
       "      <td>2</td>\n",
       "      <td>7.240000</td>\n",
       "      <td>3.108014</td>\n",
       "    </tr>\n",
       "    <tr>\n",
       "      <th>146</th>\n",
       "      <td>8.35</td>\n",
       "      <td>1.5</td>\n",
       "      <td>Female</td>\n",
       "      <td>No</td>\n",
       "      <td>Thur</td>\n",
       "      <td>Lunch</td>\n",
       "      <td>2</td>\n",
       "      <td>4.175000</td>\n",
       "      <td>3.108014</td>\n",
       "    </tr>\n",
       "    <tr>\n",
       "      <th>183</th>\n",
       "      <td>45.35</td>\n",
       "      <td>3.5</td>\n",
       "      <td>Male</td>\n",
       "      <td>Yes</td>\n",
       "      <td>Sun</td>\n",
       "      <td>Dinner</td>\n",
       "      <td>3</td>\n",
       "      <td>15.116667</td>\n",
       "      <td>3.108014</td>\n",
       "    </tr>\n",
       "    <tr>\n",
       "      <th>215</th>\n",
       "      <td>28.17</td>\n",
       "      <td>6.5</td>\n",
       "      <td>Female</td>\n",
       "      <td>Yes</td>\n",
       "      <td>Sat</td>\n",
       "      <td>Dinner</td>\n",
       "      <td>3</td>\n",
       "      <td>9.390000</td>\n",
       "      <td>3.108014</td>\n",
       "    </tr>\n",
       "  </tbody>\n",
       "</table>\n",
       "</div>"
      ],
      "text/plain": [
       "     total_bill  tip     sex smoker   day    time  size  price_per_person  \\\n",
       "198       43.11  5.0  Female    Yes  Thur   Lunch     4         10.777500   \n",
       "178       14.48  2.0    Male    Yes   Sun  Dinner     2          7.240000   \n",
       "146        8.35  1.5  Female     No  Thur   Lunch     2          4.175000   \n",
       "183       45.35  3.5    Male    Yes   Sun  Dinner     3         15.116667   \n",
       "215       28.17  6.5  Female    Yes   Sat  Dinner     3          9.390000   \n",
       "\n",
       "     baseline  \n",
       "198  3.108014  \n",
       "178  3.108014  \n",
       "146  3.108014  \n",
       "183  3.108014  \n",
       "215  3.108014  "
      ]
     },
     "execution_count": 6,
     "metadata": {},
     "output_type": "execute_result"
    }
   ],
   "source": [
    "# add a baseline columns\n",
    "train[\"baseline\"] = train.tip.mean()\n",
    "train.head()"
   ]
  },
  {
   "cell_type": "markdown",
   "id": "410b9c09",
   "metadata": {},
   "source": [
    "**Separate Feature and target**"
   ]
  },
  {
   "cell_type": "code",
   "execution_count": 7,
   "id": "331c343a",
   "metadata": {},
   "outputs": [],
   "source": [
    "# separate features from target\n",
    "xtrain = train.select_dtypes(\"number\").drop(columns=[\"tip\", \"baseline\"])\n",
    "ytrain = train.tip\n",
    "\n",
    "# validation set\n",
    "xval = validate.select_dtypes(\"number\").drop(columns=[\"tip\"])\n",
    "yval = validate.tip\n",
    "\n",
    "# testing set\n",
    "xtest = test.select_dtypes(\"number\").drop(columns=[\"tip\"])\n",
    "ytest = test.tip"
   ]
  },
  {
   "cell_type": "markdown",
   "id": "37496fd7",
   "metadata": {},
   "source": [
    "**Feature Selection**"
   ]
  },
  {
   "cell_type": "code",
   "execution_count": 8,
   "id": "3ec8273a",
   "metadata": {},
   "outputs": [
    {
     "data": {
      "text/plain": [
       "Index(['size', 'price_per_person'], dtype='object')"
      ]
     },
     "execution_count": 8,
     "metadata": {},
     "output_type": "execute_result"
    }
   ],
   "source": [
    "\n",
    "# make a model object to use in RFE process.\n",
    "# The model is here to give us metrics on feature importance and model score\n",
    "# allowing us to recursively reduce the number of features to reach our desired space\n",
    "linear_model = LinearRegression()\n",
    "\n",
    "# make a RFE object and fit\n",
    "rfe = RFE(linear_model, n_features_to_select=2)\n",
    "rfe.fit(xtrain,ytrain)\n",
    "\n",
    "# get my top two features\n",
    "xtrain.columns[rfe.support_]"
   ]
  },
  {
   "cell_type": "code",
   "execution_count": 9,
   "id": "1b7b43ed",
   "metadata": {},
   "outputs": [
    {
     "data": {
      "text/html": [
       "<div>\n",
       "<style scoped>\n",
       "    .dataframe tbody tr th:only-of-type {\n",
       "        vertical-align: middle;\n",
       "    }\n",
       "\n",
       "    .dataframe tbody tr th {\n",
       "        vertical-align: top;\n",
       "    }\n",
       "\n",
       "    .dataframe thead th {\n",
       "        text-align: right;\n",
       "    }\n",
       "</style>\n",
       "<table border=\"1\" class=\"dataframe\">\n",
       "  <thead>\n",
       "    <tr style=\"text-align: right;\">\n",
       "      <th></th>\n",
       "      <th>size</th>\n",
       "      <th>price_per_person</th>\n",
       "    </tr>\n",
       "  </thead>\n",
       "  <tbody>\n",
       "    <tr>\n",
       "      <th>198</th>\n",
       "      <td>4.0</td>\n",
       "      <td>10.777500</td>\n",
       "    </tr>\n",
       "    <tr>\n",
       "      <th>178</th>\n",
       "      <td>2.0</td>\n",
       "      <td>7.240000</td>\n",
       "    </tr>\n",
       "    <tr>\n",
       "      <th>146</th>\n",
       "      <td>2.0</td>\n",
       "      <td>4.175000</td>\n",
       "    </tr>\n",
       "    <tr>\n",
       "      <th>183</th>\n",
       "      <td>3.0</td>\n",
       "      <td>15.116667</td>\n",
       "    </tr>\n",
       "    <tr>\n",
       "      <th>215</th>\n",
       "      <td>3.0</td>\n",
       "      <td>9.390000</td>\n",
       "    </tr>\n",
       "  </tbody>\n",
       "</table>\n",
       "</div>"
      ],
      "text/plain": [
       "     size  price_per_person\n",
       "198   4.0         10.777500\n",
       "178   2.0          7.240000\n",
       "146   2.0          4.175000\n",
       "183   3.0         15.116667\n",
       "215   3.0          9.390000"
      ]
     },
     "execution_count": 9,
     "metadata": {},
     "output_type": "execute_result"
    }
   ],
   "source": [
    "# transform out selected features into a dataframe\n",
    "x_train = pd.DataFrame(\n",
    "    rfe.transform(xtrain),\n",
    "    index=xtrain.index,\n",
    "    columns = xtrain.columns[rfe.support_]\n",
    ")\n",
    "x_train.head()"
   ]
  },
  {
   "cell_type": "markdown",
   "id": "8b595079",
   "metadata": {},
   "source": [
    "**Scale features**"
   ]
  },
  {
   "cell_type": "code",
   "execution_count": 10,
   "id": "e24dd607",
   "metadata": {},
   "outputs": [
    {
     "data": {
      "text/plain": [
       "array([[ 1.52349271,  1.0060229 ],\n",
       "       [-0.61525667, -0.22934947],\n",
       "       [-0.61525667, -1.2997145 ]])"
      ]
     },
     "execution_count": 10,
     "metadata": {},
     "output_type": "execute_result"
    }
   ],
   "source": [
    "# build the scaler object\n",
    "scaler = preprocess.StandardScaler()\n",
    "\n",
    "# Note that we only call .fit with the training data,\n",
    "# but we use .transform to apply the scaling to all the data splits.\n",
    "# y Target values: this is not being changed in any way(no predictions are being made)\n",
    "x_train_scaled = scaler.fit_transform(X=x_train, y=ytrain)\n",
    "\n",
    "# scale the validation and testing data\n",
    "x_val_scaled = scaler.fit_transform(X=xval, y=yval)\n",
    "x_test_scaled = scaler.fit_transform(X=xtest, y=ytest)\n",
    "\n",
    "x_train_scaled[:3]"
   ]
  },
  {
   "cell_type": "code",
   "execution_count": 11,
   "id": "383e6028",
   "metadata": {},
   "outputs": [
    {
     "data": {
      "text/html": [
       "<div>\n",
       "<style scoped>\n",
       "    .dataframe tbody tr th:only-of-type {\n",
       "        vertical-align: middle;\n",
       "    }\n",
       "\n",
       "    .dataframe tbody tr th {\n",
       "        vertical-align: top;\n",
       "    }\n",
       "\n",
       "    .dataframe thead th {\n",
       "        text-align: right;\n",
       "    }\n",
       "</style>\n",
       "<table border=\"1\" class=\"dataframe\">\n",
       "  <thead>\n",
       "    <tr style=\"text-align: right;\">\n",
       "      <th></th>\n",
       "      <th>size</th>\n",
       "      <th>price_per_person</th>\n",
       "    </tr>\n",
       "  </thead>\n",
       "  <tbody>\n",
       "    <tr>\n",
       "      <th>0</th>\n",
       "      <td>1.523493</td>\n",
       "      <td>1.006023</td>\n",
       "    </tr>\n",
       "    <tr>\n",
       "      <th>1</th>\n",
       "      <td>-0.615257</td>\n",
       "      <td>-0.229349</td>\n",
       "    </tr>\n",
       "    <tr>\n",
       "      <th>2</th>\n",
       "      <td>-0.615257</td>\n",
       "      <td>-1.299715</td>\n",
       "    </tr>\n",
       "    <tr>\n",
       "      <th>3</th>\n",
       "      <td>0.454118</td>\n",
       "      <td>2.521355</td>\n",
       "    </tr>\n",
       "    <tr>\n",
       "      <th>4</th>\n",
       "      <td>0.454118</td>\n",
       "      <td>0.521478</td>\n",
       "    </tr>\n",
       "  </tbody>\n",
       "</table>\n",
       "</div>"
      ],
      "text/plain": [
       "       size  price_per_person\n",
       "0  1.523493          1.006023\n",
       "1 -0.615257         -0.229349\n",
       "2 -0.615257         -1.299715\n",
       "3  0.454118          2.521355\n",
       "4  0.454118          0.521478"
      ]
     },
     "execution_count": 11,
     "metadata": {},
     "output_type": "execute_result"
    }
   ],
   "source": [
    "# convert to dataframe\n",
    "x_train_scaled = pd.DataFrame(x_train_scaled)\n",
    "x_train_scaled[x_train.columns] = x_train_scaled\n",
    "x_train_scaled = x_train_scaled.drop(columns=[0,1])\n",
    "x_train_scaled.head()"
   ]
  },
  {
   "cell_type": "code",
   "execution_count": 12,
   "id": "e92b60be",
   "metadata": {},
   "outputs": [
    {
     "data": {
      "image/png": "[encoded data removed]",
      "text/plain": [
       "<Figure size 800x400 with 2 Axes>"
      ]
     },
     "metadata": {},
     "output_type": "display_data"
    }
   ],
   "source": [
    "# create subpots of distribution of the features\n",
    "x_train_scaled.plot.hist(subplots=True, layout=(1, 2), figsize=(8, 4),\n",
    "              sharex=False, sharey=False, legend=True)\n",
    "plt.tight_layout()"
   ]
  },
  {
   "cell_type": "markdown",
   "id": "24dc79b4",
   "metadata": {},
   "source": [
    "### Modeling\n",
    "\n",
    "**Linear Regression (OLS): Training**"
   ]
  },
  {
   "cell_type": "code",
   "execution_count": 13,
   "id": "6f4d58f2",
   "metadata": {},
   "outputs": [
    {
     "name": "stdout",
     "output_type": "stream",
     "text": [
      "RMSE for OLS: 0.9685606105067803\n"
     ]
    }
   ],
   "source": [
    "# MAKE THE THING: create the model object\n",
    "linear_model = LinearRegression()\n",
    "\n",
    "#1. FIT THE THING: fit the model to training data\n",
    "OLSmodel = linear_model.fit(x_train_scaled, ytrain)\n",
    "\n",
    "#2. USE THE THING: make a prediction\n",
    "ytrain_pred = linear_model.predict(x_train_scaled)\n",
    "\n",
    "#3. Evaluate: RMSE\n",
    "rmse_train = mean_squared_error(ytrain, ytrain_pred) ** (.5) # 0.5 to get the root\n",
    "\n",
    "# root mean squeared error\n",
    "print(\"RMSE for OLS:\",rmse_train)"
   ]
  },
  {
   "cell_type": "code",
   "execution_count": 14,
   "id": "8644d275",
   "metadata": {},
   "outputs": [
    {
     "data": {
      "text/html": [
       "<div>\n",
       "<style scoped>\n",
       "    .dataframe tbody tr th:only-of-type {\n",
       "        vertical-align: middle;\n",
       "    }\n",
       "\n",
       "    .dataframe tbody tr th {\n",
       "        vertical-align: top;\n",
       "    }\n",
       "\n",
       "    .dataframe thead th {\n",
       "        text-align: right;\n",
       "    }\n",
       "</style>\n",
       "<table border=\"1\" class=\"dataframe\">\n",
       "  <thead>\n",
       "    <tr style=\"text-align: right;\">\n",
       "      <th></th>\n",
       "      <th>target</th>\n",
       "      <th>OLS_prediction</th>\n",
       "      <th>baseline_pred</th>\n",
       "    </tr>\n",
       "  </thead>\n",
       "  <tbody>\n",
       "    <tr>\n",
       "      <th>198</th>\n",
       "      <td>5.0</td>\n",
       "      <td>4.823735</td>\n",
       "      <td>3.108014</td>\n",
       "    </tr>\n",
       "    <tr>\n",
       "      <th>178</th>\n",
       "      <td>2.0</td>\n",
       "      <td>2.510351</td>\n",
       "      <td>3.108014</td>\n",
       "    </tr>\n",
       "    <tr>\n",
       "      <th>146</th>\n",
       "      <td>1.5</td>\n",
       "      <td>1.934272</td>\n",
       "      <td>3.108014</td>\n",
       "    </tr>\n",
       "    <tr>\n",
       "      <th>183</th>\n",
       "      <td>3.5</td>\n",
       "      <td>4.815049</td>\n",
       "      <td>3.108014</td>\n",
       "    </tr>\n",
       "    <tr>\n",
       "      <th>215</th>\n",
       "      <td>6.5</td>\n",
       "      <td>3.738700</td>\n",
       "      <td>3.108014</td>\n",
       "    </tr>\n",
       "  </tbody>\n",
       "</table>\n",
       "</div>"
      ],
      "text/plain": [
       "     target  OLS_prediction  baseline_pred\n",
       "198     5.0        4.823735       3.108014\n",
       "178     2.0        2.510351       3.108014\n",
       "146     1.5        1.934272       3.108014\n",
       "183     3.5        4.815049       3.108014\n",
       "215     6.5        3.738700       3.108014"
      ]
     },
     "execution_count": 14,
     "metadata": {},
     "output_type": "execute_result"
    }
   ],
   "source": [
    "# convert results into dataframe\n",
    "result = pd.DataFrame({\n",
    "    \"target\": ytrain,\n",
    "    \"OLS_prediction\": ytrain_pred,\n",
    "    \"baseline_pred\": train.baseline\n",
    "})\n",
    "\n",
    "result.head()"
   ]
  },
  {
   "cell_type": "markdown",
   "id": "637f4d28",
   "metadata": {},
   "source": [
    "**Validate**"
   ]
  },
  {
   "cell_type": "code",
   "execution_count": 15,
   "id": "311182bc",
   "metadata": {},
   "outputs": [],
   "source": [
    "# convert to dataframe\n",
    "x_val_scaled = pd.DataFrame(x_val_scaled)\n",
    "x_val_scaled[xval.columns] = x_val_scaled\n",
    "x_val_scaled = x_val_scaled[x_train.columns]"
   ]
  },
  {
   "cell_type": "code",
   "execution_count": 16,
   "id": "fb257bb4",
   "metadata": {},
   "outputs": [
    {
     "name": "stdout",
     "output_type": "stream",
     "text": [
      "RMSE for OLS: 1.1240590684628513\n"
     ]
    }
   ],
   "source": [
    "#2. USE THE THING: make a prediction\n",
    "yval_pred = linear_model.predict(x_val_scaled)\n",
    "\n",
    "#3. Evaluate: RMSE\n",
    "rmse_val = mean_squared_error(yval, yval_pred) ** (.5) # 0.5 to get the root\n",
    "\n",
    "# root mean squeared error\n",
    "print(\"RMSE for OLS:\",rmse_val)"
   ]
  },
  {
   "cell_type": "code",
   "execution_count": 17,
   "id": "eed4a867",
   "metadata": {},
   "outputs": [
    {
     "data": {
      "text/html": [
       "<div>\n",
       "<style scoped>\n",
       "    .dataframe tbody tr th:only-of-type {\n",
       "        vertical-align: middle;\n",
       "    }\n",
       "\n",
       "    .dataframe tbody tr th {\n",
       "        vertical-align: top;\n",
       "    }\n",
       "\n",
       "    .dataframe thead th {\n",
       "        text-align: right;\n",
       "    }\n",
       "</style>\n",
       "<table border=\"1\" class=\"dataframe\">\n",
       "  <thead>\n",
       "    <tr style=\"text-align: right;\">\n",
       "      <th></th>\n",
       "      <th>target</th>\n",
       "      <th>OLS_val_predi</th>\n",
       "    </tr>\n",
       "  </thead>\n",
       "  <tbody>\n",
       "    <tr>\n",
       "      <th>42</th>\n",
       "      <td>2.54</td>\n",
       "      <td>2.884244</td>\n",
       "    </tr>\n",
       "    <tr>\n",
       "      <th>160</th>\n",
       "      <td>2.00</td>\n",
       "      <td>3.650837</td>\n",
       "    </tr>\n",
       "    <tr>\n",
       "      <th>191</th>\n",
       "      <td>1.50</td>\n",
       "      <td>2.733083</td>\n",
       "    </tr>\n",
       "    <tr>\n",
       "      <th>22</th>\n",
       "      <td>2.75</td>\n",
       "      <td>3.125931</td>\n",
       "    </tr>\n",
       "    <tr>\n",
       "      <th>14</th>\n",
       "      <td>3.00</td>\n",
       "      <td>3.733676</td>\n",
       "    </tr>\n",
       "  </tbody>\n",
       "</table>\n",
       "</div>"
      ],
      "text/plain": [
       "     target  OLS_val_predi\n",
       "42     2.54       2.884244\n",
       "160    2.00       3.650837\n",
       "191    1.50       2.733083\n",
       "22     2.75       3.125931\n",
       "14     3.00       3.733676"
      ]
     },
     "execution_count": 17,
     "metadata": {},
     "output_type": "execute_result"
    }
   ],
   "source": [
    "# convert results into dataframe\n",
    "result = pd.DataFrame({\n",
    "    \"target\": yval,\n",
    "    \"OLS_val_predi\":yval_pred\n",
    "})\n",
    "\n",
    "result.head()"
   ]
  },
  {
   "cell_type": "code",
   "execution_count": 23,
   "id": "d590da99",
   "metadata": {},
   "outputs": [
    {
     "data": {
      "text/plain": [
       "array([0.77077615, 0.53820761])"
      ]
     },
     "execution_count": 23,
     "metadata": {},
     "output_type": "execute_result"
    }
   ],
   "source": [
    "# how important is each feature to the target\n",
    "OLSmodel.coef_"
   ]
  },
  {
   "cell_type": "code",
   "execution_count": 22,
   "id": "6141f1a2",
   "metadata": {},
   "outputs": [
    {
     "name": "stdout",
     "output_type": "stream",
     "text": [
      "OLS Regressor \n",
      "RMSE_train 0.9685606105067803 \n",
      "RMSE_validate 1.1240590684628513 \n",
      "R2_validate 0.27833891749564343\n"
     ]
    }
   ],
   "source": [
    "print(f\"OLS Regressor \\nRMSE_train {rmse_train} \\\n",
    "\\nRMSE_validate {rmse_val} \\nR2_validate {explained_variance_score(yval, yval_pred)}\")\n"
   ]
  },
  {
   "cell_type": "code",
   "execution_count": null,
   "id": "e1545c2d",
   "metadata": {},
   "outputs": [],
   "source": []
  }
 ],
 "metadata": {
  "kernelspec": {
   "display_name": "Python 3 (ipykernel)",
   "language": "python",
   "name": "python3"
  },
  "language_info": {
   "codemirror_mode": {
    "name": "ipython",
    "version": 3
   },
   "file_extension": ".py",
   "mimetype": "text/x-python",
   "name": "python",
   "nbconvert_exporter": "python",
   "pygments_lexer": "ipython3",
   "version": "3.10.9"
  }
 },
 "nbformat": 4,
 "nbformat_minor": 5
}
